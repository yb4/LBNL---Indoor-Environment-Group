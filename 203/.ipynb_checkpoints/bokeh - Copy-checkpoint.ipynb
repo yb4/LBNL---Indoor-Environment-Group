{
 "cells": [
  {
   "cell_type": "code",
   "execution_count": 1,
   "metadata": {
    "collapsed": true
   },
   "outputs": [],
   "source": [
    "import pandas as pd\n",
    "import numpy as np\n",
    "import matplotlib.pyplot as plt\n",
    "from bokeh.plotting import figure, output_file, show\n",
    "import numpy as np\n",
    "import pandas as pd\n",
    "import warnings\n",
    "warnings.filterwarnings('ignore')\n",
    "from bokeh.plotting import figure, show, output_file, output_notebook\n",
    "from bokeh.palettes import Spectral11, colorblind, Inferno, BuGn, brewer\n",
    "from bokeh.models import HoverTool, value, LabelSet, Legend, ColumnDataSource,LinearColorMapper,BasicTicker, PrintfTickFormatter, ColorBar\n",
    "import datetime\n",
    "import os"
   ]
  },
  {
   "cell_type": "code",
   "execution_count": 2,
   "metadata": {
    "collapsed": true
   },
   "outputs": [],
   "source": [
    "data = pd.read_csv(\"DataTable203.csv\", parse_dates=['Time'])"
   ]
  },
  {
   "cell_type": "code",
   "execution_count": 4,
   "metadata": {},
   "outputs": [
    {
     "name": "stdout",
     "output_type": "stream",
     "text": [
      "Time\n",
      "PMin\n",
      "PMout\n",
      "FRM_BR1\n",
      "FRM_IN1\n",
      "AVP_BR1_PM25\n",
      "AVP_BR1_PM10\n",
      "AVP_BR1_CO2\n",
      "AVP_BR1_T\n",
      "AVP_BR1_RH\n",
      "AVP_IN1_PM25\n",
      "AVP_IN1_PM10\n",
      "AVP_IN1_CO2\n",
      "AVP_IN1_T\n",
      "AVP_IN1_RH\n",
      "AVP_IN2_PM25\n",
      "AVP_IN2_PM10\n",
      "AVP_IN2_CO2\n",
      "AVP_IN2_T\n",
      "AVP_IN2_RH\n",
      "AS2_T\n",
      "AS2_RH\n",
      "BR1_T\n",
      "BR1_RH\n",
      "EF1_BA1_T\n",
      "EF1_BA1_RH\n",
      "EF3_BA3_T\n",
      "EF3_BA3_RH\n",
      "IN1_T\n",
      "IN1_RH\n",
      "OUT_T\n",
      "OUT_RH\n",
      "ANM_AS2\n",
      "ANM_EF1_BA1\n",
      "ANM_EF2_BA2\n",
      "ANM_EF3_BA3\n",
      "ANM_EF5_LAU\n",
      "MTR_CDR\n",
      "STA_DFR\n",
      "STA_DGH\n",
      "STA_DP1\n",
      "IBU_CLB\n",
      "IBU_CLF\n",
      "IBU_CMF\n",
      "IBU_CRB\n",
      "IBU_CRF\n",
      "IBU_FP1\n",
      "IBU_OV1\n",
      "IBU_TOASTER1\n"
     ]
    }
   ],
   "source": [
    "df = data = pd.read_csv(\"DataTable203.csv\", parse_dates=['Time'])\n",
    "df['Time'] = pd.to_datetime(df['Time'], format='%m/%d/%Y%H%M')\n",
    "for i in df:\n",
    "    print(i)"
   ]
  },
  {
   "cell_type": "code",
   "execution_count": 16,
   "metadata": {
    "collapsed": true
   },
   "outputs": [],
   "source": [
    "time = df[\"Time\"].values\n",
    "pmin = df[\"PMin\"].values\n",
    "pmout = df[\"PMout\"].values\n",
    "FRM_IN1 = df[\"FRM_IN1\"].values\n",
    "FRM_BR1 = df[\"FRM_BR1\"].values\n",
    "AVP_BR1_PM25 = df[\"AVP_BR1_PM25\"].values\n",
    "AVP_BR1_PM10 = df[\"AVP_BR1_PM10\"].values\n",
    "AVP_BR1_CO2 = df[\"AVP_BR1_CO2\"].values\n",
    "AVP_BR1_T = df[\"AVP_BR1_T\"].values\n",
    "AVP_BR1_RH = df[\"AVP_BR1_RH\"].values\n",
    "AVP_IN1_PM25 = df[\"AVP_IN1_PM25\"].values\n",
    "AVP_IN1_PM10 = df[\"AVP_IN1_PM10\"].values\n",
    "AVP_IN1_CO2 = df[\"AVP_IN1_CO2\"].values\n",
    "AVP_IN2_CO2 = df[\"AVP_IN2_CO2\"].values\n",
    "AVP_IN1_T = df[\"AVP_IN1_T\"].values\n",
    "AVP_IN1_RH = df[\"AVP_IN1_RH\"].values\n",
    "AVP_IN2_PM25 = df[\"AVP_IN2_PM25\"].values\n",
    "AVP_IN2_PM10 = df[\"AVP_IN2_PM10\"].values\n",
    "AVP_IN2_T = df[\"AVP_IN2_T\"].values\n",
    "AVP_IN2_RH = df[\"AVP_IN2_RH\"].values\n",
    "IBU_CLF = df[\"IBU_CLF\"].values\n",
    "IBU_CMF = df[\"IBU_CMF\"].values\n",
    "IBU_CRB = df[\"IBU_CRB\"].values\n",
    "IBU_CRF = df[\"IBU_CRF\"].values\n",
    "IBU_FP1 = df[\"IBU_FP1\"].values\n",
    "IBU_OV1 = df[\"IBU_OV1\"].values\n",
    "IBU_TOASTER1 = df[\"IBU_TOASTER1\"].values\n",
    "AS2_T = df[\"AS2_T\"].values\n",
    "AS2_RH = df[\"AS2_RH\"].values\n",
    "BR1_T = df[\"BR1_T\"].values\n",
    "BR1_RH = df[\"BR1_RH\"].values\n",
    "EF1_BA1_T = df[\"EF1_BA1_T\"].values\n",
    "EF1_BA1_RH = df[\"EF1_BA1_RH\"].values\n",
    "EF3_BA3_T = df[\"EF3_BA3_T\"].values\n",
    "EF3_BA3_RH = df[\"EF3_BA3_RH\"].values\n",
    "IN1_T = df[\"IN1_T\"].values\n",
    "IN1_RH = df[\"IN1_RH\"].values\n",
    "OUT_T = df[\"OUT_T\"].values\n",
    "OUT_RH = df[\"OUT_RH\"].values\n",
    "ANM_AS2 = df[\"ANM_AS2\"].values\n",
    "ANM_EF1_BA1 = df[\"ANM_EF1_BA1\"].values\n",
    "ANM_EF2_BA2 = df[\"ANM_EF2_BA2\"].values\n",
    "ANM_EF3_BA3 = df[\"ANM_EF3_BA3\"].values\n",
    "ANM_EF5_LAU = df[\"ANM_EF5_LAU\"].values\n",
    "MTR_CDR = df[\"MTR_CDR\"].values\n",
    "STA_DFR = df[\"STA_DFR\"].values\n",
    "STA_DGH = df[\"STA_DGH\"].values\n",
    "STA_DP1 = df[\"STA_DP1\"].values\n",
    "IBU_CLB = df[\"IBU_CLB\"].values"
   ]
  },
  {
   "cell_type": "code",
   "execution_count": null,
   "metadata": {
    "collapsed": true
   },
   "outputs": [],
   "source": [
    "serar =[]\n",
    "for col in df.columns: \n",
    "    serar += [col]\n",
    "for i in range(1, len(serar)):\n",
    "    x = serar[i]\n",
    "    print(\"<p>\"+\"<b>\\\"\"+ x +\"\\\"<br>\"+\"</b>\")\n",
    "    print(\"Mean: \"+str(df.loc[:,x].mean()) + \"<br>\")\n",
    "    print(\"Minimum: \"+str(df.loc[:,x].min()) + \"<br>\")\n",
    "    print(\"5th Percentile: \"+str(df.loc[:,x].quantile(q=0.05)) + \"<br>\")\n",
    "    print(\"25th Percentile: \"+str(df.loc[:,x].quantile(q=0.25)) + \"<br>\")\n",
    "    print(\"Median: \"+str(df.loc[:,x].median()) + \"<br>\")\n",
    "    print(\"75th Percentile: \"+str(df.loc[:,x].quantile(q=0.75)) + \"<br>\")\n",
    "    print(\"95th Percentile: \"+str(df.loc[:,x].quantile(q=0.95)) + \"<br>\")\n",
    "    print(\"Maximum: \"+str(df.loc[:,x].max())+\"<br></p>\")\n",
    "    print(\"\\n\")"
   ]
  },
  {
   "cell_type": "code",
   "execution_count": 6,
   "metadata": {
    "collapsed": true
   },
   "outputs": [],
   "source": [
    "output_file(\"pm.html\")\n",
    "plo = figure(title=\"PMin & PMOut\", x_axis_label='Time', y_axis_label='ug/m3', x_axis_type='datetime')\n",
    "plo.line(time, pmin, legend=\"PMin\", line_width=2, color ='red')\n",
    "plo.line(time, pmout, legend=\"PMout.\", line_width=2, color ='blue')\n",
    "show(plo)"
   ]
  },
  {
   "cell_type": "code",
   "execution_count": 7,
   "metadata": {
    "collapsed": true
   },
   "outputs": [],
   "source": [
    "output_file(\"pm10.html\")\n",
    "plo = figure(title=\"PM10\", x_axis_label='Time', y_axis_label='ug/m3', x_axis_type='datetime')\n",
    "plo.line(time, AVP_BR1_PM10, legend=\"AVP_BR1_PM10\", line_width=2, color ='red')\n",
    "plo.line(time, AVP_IN1_PM10, legend=\"AVP_IN1_PM10.\", line_width=2, color ='blue')\n",
    "plo.line(time, AVP_IN2_PM10, legend=\"AVP_IN2_PM10.\", line_width=2, color ='green')\n",
    "show(plo)"
   ]
  },
  {
   "cell_type": "code",
   "execution_count": 10,
   "metadata": {
    "collapsed": true
   },
   "outputs": [],
   "source": [
    "output_file(\"intemp.html\")\n",
    "plo = figure(title=\"Indoor Temperature\", x_axis_label='Time', y_axis_label='oC', x_axis_type='datetime')\n",
    "plo.line(time, AVP_BR1_T, legend=\"AVP_BR1_T\", line_width=2, color ='red')\n",
    "plo.line(time, AVP_IN1_T, legend=\"AVP_IN1_T.\", line_width=2, color ='blue')\n",
    "plo.line(time, AVP_IN2_T, legend=\"AVP_IN2_T.\", line_width=2, color ='green')\n",
    "plo.line(time, BR1_T, legend=\"BR1_T\", line_width=2, color ='purple')\n",
    "plo.line(time, AS2_T, legend=\"AS2_T.\", line_width=2, color ='orange')\n",
    "plo.line(time, IN1_T, legend=\"IN1_T.\", line_width=2, color ='yellow')\n",
    "plo.line(time, EF1_BA1_T, legend=\"EF1_BA1_T.\", line_width=2, color ='black')\n",
    "plo.line(time, EF3_BA3_T, legend=\"EF3_BA3_T.\", line_width=2, color ='pink')\n",
    "show(plo)"
   ]
  },
  {
   "cell_type": "code",
   "execution_count": 8,
   "metadata": {
    "collapsed": true
   },
   "outputs": [],
   "source": [
    "output_file(\"pm25.html\")\n",
    "plo = figure(title=\"PM25\", x_axis_label='Time', y_axis_label='ug/m3', x_axis_type='datetime')\n",
    "plo.line(time, AVP_BR1_PM25, legend=\"AVP_BR1_PM25\", line_width=2, color ='red')\n",
    "plo.line(time, AVP_IN1_PM25, legend=\"AVP_IN1_PM25.\", line_width=2, color ='blue')\n",
    "plo.line(time, AVP_IN2_PM25, legend=\"AVP_IN2_PM25\", line_width=2, color ='green')\n",
    "show(plo)"
   ]
  },
  {
   "cell_type": "code",
   "execution_count": 9,
   "metadata": {
    "collapsed": true
   },
   "outputs": [],
   "source": [
    "output_file(\"outtemp.html\")\n",
    "plo = figure(title=\"Outdoor Temperature\", x_axis_label='Time', y_axis_label='oC', x_axis_type='datetime')\n",
    "plo.line(time, OUT_T, legend=\"OUT_T\", line_width=2, color ='red')\n",
    "show(plo)"
   ]
  },
  {
   "cell_type": "code",
   "execution_count": 14,
   "metadata": {
    "collapsed": true
   },
   "outputs": [],
   "source": [
    "output_file(\"ibo.html\")\n",
    "plo = figure(title=\"iButtons\", x_axis_label='Time', y_axis_label='oC', x_axis_type='datetime')\n",
    "plo.line(time, IBU_CLB, legend=\"IBU_CLB\", line_width=2, color ='red')\n",
    "plo.line(time, IBU_CLF, legend=\"IBU_CLF\", line_width=2, color ='purple')\n",
    "plo.line(time, IBU_CMF, legend=\"IBU_CMF\", line_width=2, color ='orange')\n",
    "plo.line(time, IBU_CRB, legend=\"IBU_CRB\", line_width=2, color ='yellow')\n",
    "plo.line(time, IBU_CRF, legend=\"IBU_CRF\", line_width=2, color ='black')\n",
    "plo.line(time, IBU_FP1, legend=\"IBU_FP1\", line_width=2, color ='blue')\n",
    "plo.line(time, IBU_OV1, legend=\"IBU_OV1\", line_width=2, color ='pink')\n",
    "show(plo)"
   ]
  },
  {
   "cell_type": "code",
   "execution_count": 11,
   "metadata": {
    "collapsed": true
   },
   "outputs": [],
   "source": [
    "output_file(\"inrh.html\")\n",
    "plo = figure(title=\"Indoor Relative Humidity\", x_axis_label='Time', y_axis_label='%', x_axis_type='datetime')\n",
    "plo.line(time, AVP_BR1_RH, legend=\"AVP_BR1_RH\", line_width=2, color ='red')\n",
    "plo.line(time, AVP_IN1_RH, legend=\"AVP_IN1_RH\", line_width=2, color ='blue')\n",
    "plo.line(time, AVP_IN2_RH, legend=\"AVP_IN2_RH.\", line_width=2, color ='green')\n",
    "plo.line(time, BR1_RH, legend=\"BR1_RH\", line_width=2, color ='purple')\n",
    "plo.line(time, AS2_RH, legend=\"AS2_RH\", line_width=2, color ='orange')\n",
    "plo.line(time, IN1_RH, legend=\"IN1_RH\", line_width=2, color ='yellow')\n",
    "plo.line(time, EF1_BA1_RH, legend=\"EF1_BA1_RH\", line_width=2, color ='black')\n",
    "plo.line(time, EF3_BA3_RH, legend=\"EF3_BA3_RH\", line_width=2, color ='pink')\n",
    "show(plo)"
   ]
  },
  {
   "cell_type": "code",
   "execution_count": 13,
   "metadata": {
    "collapsed": true
   },
   "outputs": [],
   "source": [
    "output_file(\"outrh.html\")\n",
    "plo = figure(title=\"Outdoor Relative Humidity\", x_axis_label='Time', y_axis_label='%', x_axis_type='datetime')\n",
    "plo.line(time, OUT_RH, legend=\"OUT_RH\", line_width=2, color ='red')\n",
    "show(plo)"
   ]
  },
  {
   "cell_type": "code",
   "execution_count": 17,
   "metadata": {
    "collapsed": true
   },
   "outputs": [],
   "source": [
    "output_file(\"co2.html\")\n",
    "plo = figure(title=\"CO2\", x_axis_label='Time', y_axis_label='ppm', x_axis_type='datetime')\n",
    "plo.line(time, AVP_BR1_CO2, legend=\"AVP_BR1_CO2\", line_width=2, color ='red')\n",
    "plo.line(time, AVP_IN1_CO2, legend=\"AVP_IN1_CO2\", line_width=2, color ='blue')\n",
    "plo.line(time, AVP_IN2_CO2, legend=\"AVP_IN2_CO2\", line_width=2, color ='black')\n",
    "show(plo)"
   ]
  },
  {
   "cell_type": "code",
   "execution_count": 18,
   "metadata": {
    "collapsed": true
   },
   "outputs": [],
   "source": [
    "output_file(\"anm.html\")\n",
    "plo = figure(title=\"Anomometer\", x_axis_label='Time', y_axis_label='m/s', x_axis_type='datetime')\n",
    "plo.line(time, ANM_AS2, legend=\"ANM_AS2\", line_width=2, color ='red')\n",
    "plo.line(time, ANM_EF1_BA1, legend=\"ANM_EF1_BA1\", line_width=2, color ='blue')\n",
    "plo.line(time, ANM_EF2_BA2, legend=\"ANM_EF2_BA2\", line_width=2, color ='green')\n",
    "plo.line(time, ANM_EF3_BA3, legend=\"ANM_EF3_BA3\", line_width=2, color ='purple')\n",
    "plo.line(time, ANM_EF5_LAU, legend=\"ANM_EF5_LAU\", line_width=2, color ='orange')\n",
    "show(plo)"
   ]
  },
  {
   "cell_type": "code",
   "execution_count": 19,
   "metadata": {
    "collapsed": true
   },
   "outputs": [],
   "source": [
    "output_file(\"mtr.html\")\n",
    "plo = figure(title=\"Motor\", x_axis_label='Time', y_axis_label='% time on', x_axis_type='datetime')\n",
    "plo.line(time, MTR_CDR, legend=\"MTR_CDR\", line_width=2, color ='red')\n",
    "show(plo)"
   ]
  },
  {
   "cell_type": "code",
   "execution_count": 20,
   "metadata": {
    "collapsed": true
   },
   "outputs": [],
   "source": [
    "output_file(\"sta.html\")\n",
    "plo = figure(title=\"Door Status\", x_axis_label='Time', y_axis_label='Status', x_axis_type='datetime')\n",
    "plo.line(time, STA_DGH, legend=\"STA_DGH\", line_width=2, color ='red')\n",
    "plo.line(time, STA_DFR, legend=\"STA_DFR\", line_width=2, color ='blue')\n",
    "plo.line(time, STA_DP1, legend=\"STA_DP1\", line_width=2, color ='green')\n",
    "show(plo)"
   ]
  },
  {
   "cell_type": "code",
   "execution_count": 21,
   "metadata": {
    "collapsed": true
   },
   "outputs": [],
   "source": [
    "output_file(\"frm.html\")\n",
    "plo = figure(title=\"Door Status\", x_axis_label='Time', y_axis_label='ppb', x_axis_type='datetime')\n",
    "plo.line(time, FRM_IN1, legend=\"FRM_IN1\", line_width=2, color ='red')\n",
    "plo.line(time, FRM_BR1, legend=\"FRM_BR1\", line_width=2, color ='blue')\n",
    "show(plo)"
   ]
  },
  {
   "cell_type": "code",
   "execution_count": null,
   "metadata": {
    "collapsed": true
   },
   "outputs": [],
   "source": []
  },
  {
   "cell_type": "code",
   "execution_count": null,
   "metadata": {
    "collapsed": true
   },
   "outputs": [],
   "source": []
  }
 ],
 "metadata": {
  "kernelspec": {
   "display_name": "Python 3",
   "language": "python",
   "name": "python3"
  },
  "language_info": {
   "codemirror_mode": {
    "name": "ipython",
    "version": 3
   },
   "file_extension": ".py",
   "mimetype": "text/x-python",
   "name": "python",
   "nbconvert_exporter": "python",
   "pygments_lexer": "ipython3",
   "version": "3.6.3"
  }
 },
 "nbformat": 4,
 "nbformat_minor": 2
}
