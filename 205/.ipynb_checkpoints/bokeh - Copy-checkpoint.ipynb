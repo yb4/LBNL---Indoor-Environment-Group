{
 "cells": [
  {
   "cell_type": "code",
   "execution_count": 1,
   "metadata": {
    "collapsed": true
   },
   "outputs": [],
   "source": [
    "import pandas as pd\n",
    "import numpy as np\n",
    "import matplotlib.pyplot as plt\n",
    "from bokeh.plotting import figure, output_file, show\n",
    "import numpy as np\n",
    "import pandas as pd\n",
    "import warnings\n",
    "warnings.filterwarnings('ignore')\n",
    "from bokeh.plotting import figure, show, output_file, output_notebook\n",
    "from bokeh.palettes import Spectral11, colorblind, Inferno, BuGn, brewer\n",
    "from bokeh.models import HoverTool, value, LabelSet, Legend, ColumnDataSource,LinearColorMapper,BasicTicker, PrintfTickFormatter, ColorBar\n",
    "import datetime\n",
    "import os"
   ]
  },
  {
   "cell_type": "code",
   "execution_count": 2,
   "metadata": {},
   "outputs": [
    {
     "name": "stdout",
     "output_type": "stream",
     "text": [
      "Time\n",
      "PMin\n",
      "PMout\n",
      "FRM_BR1\n",
      "FRM_IN1\n",
      "AVP_BR1_PM25\n",
      "AVP_BR1_PM10\n",
      "AVP_BR1_CO2\n",
      "AVP_BR1_T\n",
      "AVP_BR1_RH\n",
      "AVP_IN1_PM25\n",
      "AVP_IN1_PM10\n",
      "AVP_IN1_CO2\n",
      "AVP_IN1_T\n",
      "AVP_IN1_RH\n",
      "AVP_IN2_PM25\n",
      "AVP_IN2_PM10\n",
      "AVP_IN2_CO2\n",
      "AVP_IN2_T\n",
      "AVP_IN2_RH\n",
      "AS1_T\n",
      "AS1_RH\n",
      "BA1_T\n",
      "BA1_RH\n",
      "BA2_T\n",
      "BA2_RH\n",
      "BR1_T\n",
      "BR1_RH\n",
      "IN1_T\n",
      "IN1_RH\n",
      "OUT_T\n",
      "OUT_RH\n",
      "ANM_AS1\n",
      "ANM_BA1\n",
      "ANM_BA2\n",
      "ANM_BA3\n",
      "ANM_LAU\n",
      "ANM_RHD\n",
      "MTR_CDR\n",
      "STA_BR1\n",
      "STA_DFR\n",
      "STA_DP1\n",
      "IBU_CLC\n",
      "IBU_CRC\n",
      "IBU_FP1\n",
      "IBU_OV1\n",
      "IBU_OV2\n",
      "IBU_OV3\n"
     ]
    }
   ],
   "source": [
    "df = data = pd.read_csv(\"DataTable205.csv\", parse_dates=['Time'])\n",
    "df['Time'] = pd.to_datetime(df['Time'], format='%m/%d/%Y%H%M')\n",
    "for i in df:\n",
    "    print(i)"
   ]
  },
  {
   "cell_type": "code",
   "execution_count": 8,
   "metadata": {},
   "outputs": [],
   "source": [
    "time = df[\"Time\"].values\n",
    "pmin = df[\"PMin\"].values\n",
    "pmout = df[\"PMout\"].values\n",
    "FRM_IN1 = df[\"FRM_IN1\"].values\n",
    "FRM_BR1 = df[\"FRM_BR1\"].values\n",
    "AVP_BR1_PM25 = df[\"AVP_BR1_PM25\"].values\n",
    "AVP_BR1_PM10 = df[\"AVP_BR1_PM10\"].values\n",
    "AVP_BR1_CO2 = df[\"AVP_BR1_CO2\"].values\n",
    "AVP_BR1_T = df[\"AVP_BR1_T\"].values\n",
    "AVP_BR1_RH = df[\"AVP_BR1_RH\"].values\n",
    "AVP_IN1_PM25 = df[\"AVP_IN1_PM25\"].values\n",
    "AVP_IN1_PM10 = df[\"AVP_IN1_PM10\"].values\n",
    "AVP_IN1_CO2 = df[\"AVP_IN1_CO2\"].values\n",
    "AVP_IN2_CO2 = df[\"AVP_IN2_CO2\"].values\n",
    "AVP_IN1_T = df[\"AVP_IN1_T\"].values\n",
    "AVP_IN1_RH = df[\"AVP_IN1_RH\"].values\n",
    "AVP_IN2_PM25 = df[\"AVP_IN2_PM25\"].values\n",
    "AVP_IN2_PM10 = df[\"AVP_IN2_PM10\"].values\n",
    "AVP_IN2_T = df[\"AVP_IN2_T\"].values\n",
    "AVP_IN2_RH = df[\"AVP_IN2_RH\"].values\n",
    "\n",
    "IBU_CLC = df[\"IBU_CLC\"].values\n",
    "IBU_CRC = df[\"IBU_CRC\"].values\n",
    "IBU_FP1 = df[\"IBU_FP1\"].values\n",
    "IBU_OV1 = df[\"IBU_OV1\"].values\n",
    "IBU_OV2 = df[\"IBU_OV2\"].values\n",
    "IBU_OV3 = df[\"IBU_OV3\"].values\n",
    "\n",
    "AS1_T = df[\"AS1_T\"].values\n",
    "AS1_RH = df[\"AS1_RH\"].values\n",
    "BR1_T = df[\"BR1_T\"].values\n",
    "BR1_RH = df[\"BR1_RH\"].values\n",
    "BA1_T = df[\"BA1_T\"].values\n",
    "BA1_RH = df[\"BA1_RH\"].values\n",
    "BA2_T = df[\"BA2_T\"].values\n",
    "BA2_RH = df[\"BA2_RH\"].values\n",
    "IN1_T = df[\"IN1_T\"].values\n",
    "IN1_RH = df[\"IN1_RH\"].values\n",
    "OUT_T = df[\"OUT_T\"].values\n",
    "OUT_RH = df[\"OUT_RH\"].values\n",
    "\n",
    "ANM_AS1 = df[\"ANM_AS1\"].values\n",
    "ANM_BA1 = df[\"ANM_BA1\"].values\n",
    "ANM_BA2 = df[\"ANM_BA2\"].values\n",
    "ANM_BA3 = df[\"ANM_BA3\"].values\n",
    "ANM_LAU = df[\"ANM_LAU\"].values\n",
    "ANM_RHD = df[\"ANM_RHD\"].values\n",
    "\n",
    "MTR_CDR = df[\"MTR_CDR\"].values\n",
    "STA_BR1 = df[\"STA_BR1\"].values\n",
    "STA_DFR = df[\"STA_DFR\"].values\n",
    "STA_DP1 = df[\"STA_DP1\"].values"
   ]
  },
  {
   "cell_type": "code",
   "execution_count": 17,
   "metadata": {
    "collapsed": true
   },
   "outputs": [],
   "source": [
    "output_file(\"pm.html\")\n",
    "plo = figure(title=\"PMin & PMOut\", x_axis_label='Time', y_axis_label='ug/m3', x_axis_type='datetime')\n",
    "plo.line(time, pmin, legend=\"PMin\", line_width=2, color ='red')\n",
    "plo.line(time, pmout, legend=\"PMout.\", line_width=2, color ='blue')\n",
    "show(plo)"
   ]
  },
  {
   "cell_type": "code",
   "execution_count": 18,
   "metadata": {
    "collapsed": true
   },
   "outputs": [],
   "source": [
    "output_file(\"pm10.html\")\n",
    "plo = figure(title=\"PM10\", x_axis_label='Time', y_axis_label='ug/m3', x_axis_type='datetime')\n",
    "plo.line(time, AVP_BR1_PM10, legend=\"AVP_BR1_PM10\", line_width=2, color ='red')\n",
    "plo.line(time, AVP_IN1_PM10, legend=\"AVP_IN1_PM10.\", line_width=2, color ='blue')\n",
    "plo.line(time, AVP_IN2_PM10, legend=\"AVP_IN2_PM10.\", line_width=2, color ='green')\n",
    "show(plo)"
   ]
  },
  {
   "cell_type": "code",
   "execution_count": 33,
   "metadata": {
    "collapsed": true
   },
   "outputs": [],
   "source": [
    "output_file(\"intemp.html\")\n",
    "plo = figure(title=\"Indoor Temperature\", x_axis_label='Time', y_axis_label='oC', x_axis_type='datetime')\n",
    "plo.line(time, AVP_BR1_T, legend=\"AVP_BR1_T\", line_width=2, color ='red')\n",
    "plo.line(time, AVP_IN1_T, legend=\"AVP_IN1_T.\", line_width=2, color ='blue')\n",
    "plo.line(time, AVP_IN2_T, legend=\"AVP_IN2_T.\", line_width=2, color ='green')\n",
    "plo.line(time, BR1_T, legend=\"BR1_T\", line_width=2, color ='purple')\n",
    "plo.line(time, AS1_T, legend=\"AS1_T.\", line_width=2, color ='orange')\n",
    "plo.line(time, IN1_T, legend=\"IN1_T.\", line_width=2, color ='yellow')\n",
    "plo.line(time, BA1_T, legend=\"BA1_T.\", line_width=2, color ='black')\n",
    "plo.line(time, BA2_T, legend=\"BA2_T.\", line_width=2, color ='pink')\n",
    "show(plo)"
   ]
  },
  {
   "cell_type": "code",
   "execution_count": 22,
   "metadata": {
    "collapsed": true
   },
   "outputs": [],
   "source": [
    "output_file(\"pm25.html\")\n",
    "plo = figure(title=\"PM25\", x_axis_label='Time', y_axis_label='ug/m3', x_axis_type='datetime')\n",
    "plo.line(time, AVP_BR1_PM25, legend=\"AVP_BR1_PM25\", line_width=2, color ='red')\n",
    "plo.line(time, AVP_IN1_PM25, legend=\"AVP_IN1_PM25.\", line_width=2, color ='blue')\n",
    "plo.line(time, AVP_IN2_PM25, legend=\"AVP_IN2_PM25\", line_width=2, color ='green')\n",
    "show(plo)"
   ]
  },
  {
   "cell_type": "code",
   "execution_count": 23,
   "metadata": {
    "collapsed": true
   },
   "outputs": [],
   "source": [
    "output_file(\"outtemp.html\")\n",
    "plo = figure(title=\"Outdoor Temperature\", x_axis_label='Time', y_axis_label='oC', x_axis_type='datetime')\n",
    "plo.line(time, OUT_T, legend=\"OUT_T\", line_width=2, color ='red')\n",
    "show(plo)"
   ]
  },
  {
   "cell_type": "code",
   "execution_count": 36,
   "metadata": {
    "collapsed": true
   },
   "outputs": [],
   "source": [
    "output_file(\"ibo.html\")\n",
    "plo = figure(title=\"iButtons\", x_axis_label='Time', y_axis_label='oC', x_axis_type='datetime')\n",
    "plo.line(time, IBU_CLB, legend=\"IBU_CLB\", line_width=2, color ='red')\n",
    "plo.line(time, IBU_CLF, legend=\"IBU_CLF\", line_width=2, color ='purple')\n",
    "plo.line(time, IBU_CMIDDLE, legend=\"IBU_CMIDDLE\", line_width=2, color ='orange')\n",
    "plo.line(time, IBU_CRB, legend=\"IBU_CRB\", line_width=2, color ='yellow')\n",
    "plo.line(time, IBU_CRF, legend=\"IBU_CRF\", line_width=2, color ='black')\n",
    "plo.line(time, IBU_FP1, legend=\"IBU_FP1\", line_width=2, color ='blue')\n",
    "plo.line(time, IBU_CRF, legend=\"IBU_CRF\", line_width=2, color ='black')\n",
    "plo.line(time, IBU_TOASTER, legend=\"IBU_TOASTER\", line_width=2, color ='violet')\n",
    "show(plo)"
   ]
  },
  {
   "cell_type": "code",
   "execution_count": 37,
   "metadata": {
    "collapsed": true
   },
   "outputs": [],
   "source": [
    "output_file(\"inrh.html\")\n",
    "plo = figure(title=\"Indoor Relative Humidity\", x_axis_label='Time', y_axis_label='%', x_axis_type='datetime')\n",
    "plo.line(time, AVP_BR1_RH, legend=\"AVP_BR1_RH\", line_width=2, color ='red')\n",
    "plo.line(time, AVP_IN1_RH, legend=\"AVP_IN1_RH\", line_width=2, color ='blue')\n",
    "plo.line(time, AVP_IN2_RH, legend=\"AVP_IN2_RH.\", line_width=2, color ='green')\n",
    "plo.line(time, BR1_RH, legend=\"BR1_RH\", line_width=2, color ='purple')\n",
    "plo.line(time, AS1_RH, legend=\"AS1_RH\", line_width=2, color ='orange')\n",
    "plo.line(time, IN1_RH, legend=\"IN1_RH\", line_width=2, color ='yellow')\n",
    "plo.line(time, BA1_RH, legend=\"BA1_RH\", line_width=2, color ='black')\n",
    "plo.line(time, BA2_RH, legend=\"BA2_RH\", line_width=2, color ='pink')\n",
    "show(plo)"
   ]
  },
  {
   "cell_type": "code",
   "execution_count": 38,
   "metadata": {
    "collapsed": true
   },
   "outputs": [],
   "source": [
    "output_file(\"outrh.html\")\n",
    "plo = figure(title=\"Outdoor Relative Humidity\", x_axis_label='Time', y_axis_label='%', x_axis_type='datetime')\n",
    "plo.line(time, OUT_RH, legend=\"OUT_RH\", line_width=2, color ='red')\n",
    "show(plo)"
   ]
  },
  {
   "cell_type": "code",
   "execution_count": 39,
   "metadata": {
    "collapsed": true
   },
   "outputs": [],
   "source": [
    "output_file(\"co2.html\")\n",
    "plo = figure(title=\"CO2\", x_axis_label='Time', y_axis_label='ppm', x_axis_type='datetime')\n",
    "plo.line(time, AVP_BR1_CO2, legend=\"AVP_BR1_CO2\", line_width=2, color ='red')\n",
    "plo.line(time, AVP_IN1_CO2, legend=\"AVP_IN1_CO2\", line_width=2, color ='blue')\n",
    "plo.line(time, AVP_IN2_CO2, legend=\"AVP_IN2_CO2\", line_width=2, color ='black')\n",
    "show(plo)"
   ]
  },
  {
   "cell_type": "code",
   "execution_count": 40,
   "metadata": {
    "collapsed": true
   },
   "outputs": [],
   "source": [
    "output_file(\"anm.html\")\n",
    "plo = figure(title=\"Anomometer\", x_axis_label='Time', y_axis_label='m/s', x_axis_type='datetime')\n",
    "plo.line(time, ANM_AS1, legend=\"ANM_AS1\", line_width=2, color ='red')\n",
    "plo.line(time, ANM_BA1, legend=\"ANM_BA1\", line_width=2, color ='blue')\n",
    "plo.line(time, ANM_BA2, legend=\"ANM_BA2\", line_width=2, color ='green')\n",
    "plo.line(time, ANM_EF1, legend=\"ANM_EF1\", line_width=2, color ='purple')\n",
    "plo.line(time, ANM_RHD, legend=\"ANM_RHD\", line_width=2, color ='orange')\n",
    "show(plo)"
   ]
  },
  {
   "cell_type": "code",
   "execution_count": 28,
   "metadata": {
    "collapsed": true
   },
   "outputs": [],
   "source": [
    "output_file(\"mtr.html\")\n",
    "plo = figure(title=\"Motor\", x_axis_label='Time', y_axis_label='% time on', x_axis_type='datetime')\n",
    "plo.line(time, MTR_CDR, legend=\"MTR_CDR\", line_width=2, color ='red')\n",
    "show(plo)"
   ]
  },
  {
   "cell_type": "code",
   "execution_count": 29,
   "metadata": {
    "collapsed": true
   },
   "outputs": [],
   "source": [
    "output_file(\"sta.html\")\n",
    "plo = figure(title=\"Door Status\", x_axis_label='Time', y_axis_label='Status', x_axis_type='datetime')\n",
    "plo.line(time, STA_DGH, legend=\"STA_DGH\", line_width=2, color ='red')\n",
    "plo.line(time, STA_DFR, legend=\"STA_DFR\", line_width=2, color ='blue')\n",
    "plo.line(time, STA_DP1, legend=\"STA_DP1\", line_width=2, color ='green')\n",
    "show(plo)"
   ]
  },
  {
   "cell_type": "code",
   "execution_count": 30,
   "metadata": {
    "collapsed": true
   },
   "outputs": [],
   "source": [
    "output_file(\"frm.html\")\n",
    "plo = figure(title=\"Door Status\", x_axis_label='Time', y_axis_label='ppb', x_axis_type='datetime')\n",
    "plo.line(time, FRM_IN1, legend=\"FRM_IN1\", line_width=2, color ='red')\n",
    "plo.line(time, FRM_BR1, legend=\"FRM_BR1\", line_width=2, color ='blue')\n",
    "show(plo)"
   ]
  }
 ],
 "metadata": {
  "kernelspec": {
   "display_name": "Python 3",
   "language": "python",
   "name": "python3"
  },
  "language_info": {
   "codemirror_mode": {
    "name": "ipython",
    "version": 3
   },
   "file_extension": ".py",
   "mimetype": "text/x-python",
   "name": "python",
   "nbconvert_exporter": "python",
   "pygments_lexer": "ipython3",
   "version": "3.6.3"
  }
 },
 "nbformat": 4,
 "nbformat_minor": 2
}
